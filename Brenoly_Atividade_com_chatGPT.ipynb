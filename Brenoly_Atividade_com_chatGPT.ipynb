{
  "nbformat": 4,
  "nbformat_minor": 0,
  "metadata": {
    "colab": {
      "provenance": [],
      "include_colab_link": true
    },
    "kernelspec": {
      "name": "python3",
      "display_name": "Python 3"
    },
    "language_info": {
      "name": "python"
    }
  },
  "cells": [
    {
      "cell_type": "markdown",
      "metadata": {
        "id": "view-in-github",
        "colab_type": "text"
      },
      "source": [
        "<a href=\"https://colab.research.google.com/github/brenolyES/atv2_brenoly_ML/blob/main/Brenoly_Atividade_com_chatGPT.ipynb\" target=\"_parent\"><img src=\"https://colab.research.google.com/assets/colab-badge.svg\" alt=\"Open In Colab\"/></a>"
      ]
    },
    {
      "cell_type": "markdown",
      "source": [
        "##Importação dos dados"
      ],
      "metadata": {
        "id": "o-XrbXguoXkM"
      }
    },
    {
      "cell_type": "code",
      "execution_count": null,
      "metadata": {
        "id": "iUxwpHrdn-fp"
      },
      "outputs": [],
      "source": [
        "#importar as bibliotecas necessárias\n",
        "import pandas as pd\n",
        "import matplotlib.pyplot as plt\n",
        "import seaborn as sns\n",
        "import numpy as np"
      ]
    },
    {
      "cell_type": "code",
      "source": [
        "url = \"https://gist.githubusercontent.com/brenolyES/6f34e3f24dfe4992ca71c8bdeee4fa3f/raw/a31b3d2acd6db4ae8bcc954f3d7a275f3b35f46a/gistfile1.txt\"\n",
        "df = pd.read_csv(url, sep=';')\n"
      ],
      "metadata": {
        "id": "1sMJoA1go4hY"
      },
      "execution_count": null,
      "outputs": []
    },
    {
      "cell_type": "markdown",
      "source": [
        "Importando a base e separando as colunas pela virgula."
      ],
      "metadata": {
        "id": "pl7Xf1WPZx3_"
      }
    },
    {
      "cell_type": "code",
      "source": [
        "#analisando as primeiras entradas do df\n",
        "df.head()"
      ],
      "metadata": {
        "colab": {
          "base_uri": "https://localhost:8080/",
          "height": 206
        },
        "id": "C0XtAtPQo_uR",
        "outputId": "97b69c2e-1835-4d61-b555-bde1034cd815"
      },
      "execution_count": null,
      "outputs": [
        {
          "output_type": "execute_result",
          "data": {
            "text/plain": [
              "   player_id               name  nationality  position  overall  age  hits  \\\n",
              "0     158023       Lionel Messi    Argentina  ST|CF|RW       94   33   299   \n",
              "1      20801  Cristiano Ronaldo     Portugal     ST|LW       93   35   276   \n",
              "2     190871          Neymar Jr       Brazil    CAM|LW       92   28   186   \n",
              "3     203376    Virgil van Dijk  Netherlands        CB       91   29   127   \n",
              "4     200389          Jan Oblak     Slovenia        GK       91   27    47   \n",
              "\n",
              "   potential                  team  \n",
              "0         94         FC Barcelona   \n",
              "1         93             Juventus   \n",
              "2         92  Paris Saint-Germain   \n",
              "3         92            Liverpool   \n",
              "4         93      Atlético Madrid   "
            ],
            "text/html": [
              "\n",
              "  <div id=\"df-2663609f-508f-488b-afee-04562f2021f6\">\n",
              "    <div class=\"colab-df-container\">\n",
              "      <div>\n",
              "<style scoped>\n",
              "    .dataframe tbody tr th:only-of-type {\n",
              "        vertical-align: middle;\n",
              "    }\n",
              "\n",
              "    .dataframe tbody tr th {\n",
              "        vertical-align: top;\n",
              "    }\n",
              "\n",
              "    .dataframe thead th {\n",
              "        text-align: right;\n",
              "    }\n",
              "</style>\n",
              "<table border=\"1\" class=\"dataframe\">\n",
              "  <thead>\n",
              "    <tr style=\"text-align: right;\">\n",
              "      <th></th>\n",
              "      <th>player_id</th>\n",
              "      <th>name</th>\n",
              "      <th>nationality</th>\n",
              "      <th>position</th>\n",
              "      <th>overall</th>\n",
              "      <th>age</th>\n",
              "      <th>hits</th>\n",
              "      <th>potential</th>\n",
              "      <th>team</th>\n",
              "    </tr>\n",
              "  </thead>\n",
              "  <tbody>\n",
              "    <tr>\n",
              "      <th>0</th>\n",
              "      <td>158023</td>\n",
              "      <td>Lionel Messi</td>\n",
              "      <td>Argentina</td>\n",
              "      <td>ST|CF|RW</td>\n",
              "      <td>94</td>\n",
              "      <td>33</td>\n",
              "      <td>299</td>\n",
              "      <td>94</td>\n",
              "      <td>FC Barcelona</td>\n",
              "    </tr>\n",
              "    <tr>\n",
              "      <th>1</th>\n",
              "      <td>20801</td>\n",
              "      <td>Cristiano Ronaldo</td>\n",
              "      <td>Portugal</td>\n",
              "      <td>ST|LW</td>\n",
              "      <td>93</td>\n",
              "      <td>35</td>\n",
              "      <td>276</td>\n",
              "      <td>93</td>\n",
              "      <td>Juventus</td>\n",
              "    </tr>\n",
              "    <tr>\n",
              "      <th>2</th>\n",
              "      <td>190871</td>\n",
              "      <td>Neymar Jr</td>\n",
              "      <td>Brazil</td>\n",
              "      <td>CAM|LW</td>\n",
              "      <td>92</td>\n",
              "      <td>28</td>\n",
              "      <td>186</td>\n",
              "      <td>92</td>\n",
              "      <td>Paris Saint-Germain</td>\n",
              "    </tr>\n",
              "    <tr>\n",
              "      <th>3</th>\n",
              "      <td>203376</td>\n",
              "      <td>Virgil van Dijk</td>\n",
              "      <td>Netherlands</td>\n",
              "      <td>CB</td>\n",
              "      <td>91</td>\n",
              "      <td>29</td>\n",
              "      <td>127</td>\n",
              "      <td>92</td>\n",
              "      <td>Liverpool</td>\n",
              "    </tr>\n",
              "    <tr>\n",
              "      <th>4</th>\n",
              "      <td>200389</td>\n",
              "      <td>Jan Oblak</td>\n",
              "      <td>Slovenia</td>\n",
              "      <td>GK</td>\n",
              "      <td>91</td>\n",
              "      <td>27</td>\n",
              "      <td>47</td>\n",
              "      <td>93</td>\n",
              "      <td>Atlético Madrid</td>\n",
              "    </tr>\n",
              "  </tbody>\n",
              "</table>\n",
              "</div>\n",
              "      <button class=\"colab-df-convert\" onclick=\"convertToInteractive('df-2663609f-508f-488b-afee-04562f2021f6')\"\n",
              "              title=\"Convert this dataframe to an interactive table.\"\n",
              "              style=\"display:none;\">\n",
              "        \n",
              "  <svg xmlns=\"http://www.w3.org/2000/svg\" height=\"24px\"viewBox=\"0 0 24 24\"\n",
              "       width=\"24px\">\n",
              "    <path d=\"M0 0h24v24H0V0z\" fill=\"none\"/>\n",
              "    <path d=\"M18.56 5.44l.94 2.06.94-2.06 2.06-.94-2.06-.94-.94-2.06-.94 2.06-2.06.94zm-11 1L8.5 8.5l.94-2.06 2.06-.94-2.06-.94L8.5 2.5l-.94 2.06-2.06.94zm10 10l.94 2.06.94-2.06 2.06-.94-2.06-.94-.94-2.06-.94 2.06-2.06.94z\"/><path d=\"M17.41 7.96l-1.37-1.37c-.4-.4-.92-.59-1.43-.59-.52 0-1.04.2-1.43.59L10.3 9.45l-7.72 7.72c-.78.78-.78 2.05 0 2.83L4 21.41c.39.39.9.59 1.41.59.51 0 1.02-.2 1.41-.59l7.78-7.78 2.81-2.81c.8-.78.8-2.07 0-2.86zM5.41 20L4 18.59l7.72-7.72 1.47 1.35L5.41 20z\"/>\n",
              "  </svg>\n",
              "      </button>\n",
              "      \n",
              "  <style>\n",
              "    .colab-df-container {\n",
              "      display:flex;\n",
              "      flex-wrap:wrap;\n",
              "      gap: 12px;\n",
              "    }\n",
              "\n",
              "    .colab-df-convert {\n",
              "      background-color: #E8F0FE;\n",
              "      border: none;\n",
              "      border-radius: 50%;\n",
              "      cursor: pointer;\n",
              "      display: none;\n",
              "      fill: #1967D2;\n",
              "      height: 32px;\n",
              "      padding: 0 0 0 0;\n",
              "      width: 32px;\n",
              "    }\n",
              "\n",
              "    .colab-df-convert:hover {\n",
              "      background-color: #E2EBFA;\n",
              "      box-shadow: 0px 1px 2px rgba(60, 64, 67, 0.3), 0px 1px 3px 1px rgba(60, 64, 67, 0.15);\n",
              "      fill: #174EA6;\n",
              "    }\n",
              "\n",
              "    [theme=dark] .colab-df-convert {\n",
              "      background-color: #3B4455;\n",
              "      fill: #D2E3FC;\n",
              "    }\n",
              "\n",
              "    [theme=dark] .colab-df-convert:hover {\n",
              "      background-color: #434B5C;\n",
              "      box-shadow: 0px 1px 3px 1px rgba(0, 0, 0, 0.15);\n",
              "      filter: drop-shadow(0px 1px 2px rgba(0, 0, 0, 0.3));\n",
              "      fill: #FFFFFF;\n",
              "    }\n",
              "  </style>\n",
              "\n",
              "      <script>\n",
              "        const buttonEl =\n",
              "          document.querySelector('#df-2663609f-508f-488b-afee-04562f2021f6 button.colab-df-convert');\n",
              "        buttonEl.style.display =\n",
              "          google.colab.kernel.accessAllowed ? 'block' : 'none';\n",
              "\n",
              "        async function convertToInteractive(key) {\n",
              "          const element = document.querySelector('#df-2663609f-508f-488b-afee-04562f2021f6');\n",
              "          const dataTable =\n",
              "            await google.colab.kernel.invokeFunction('convertToInteractive',\n",
              "                                                     [key], {});\n",
              "          if (!dataTable) return;\n",
              "\n",
              "          const docLinkHtml = 'Like what you see? Visit the ' +\n",
              "            '<a target=\"_blank\" href=https://colab.research.google.com/notebooks/data_table.ipynb>data table notebook</a>'\n",
              "            + ' to learn more about interactive tables.';\n",
              "          element.innerHTML = '';\n",
              "          dataTable['output_type'] = 'display_data';\n",
              "          await google.colab.output.renderOutput(dataTable, element);\n",
              "          const docLink = document.createElement('div');\n",
              "          docLink.innerHTML = docLinkHtml;\n",
              "          element.appendChild(docLink);\n",
              "        }\n",
              "      </script>\n",
              "    </div>\n",
              "  </div>\n",
              "  "
            ]
          },
          "metadata": {},
          "execution_count": 4
        }
      ]
    },
    {
      "cell_type": "markdown",
      "source": [],
      "metadata": {
        "id": "aXwCPOKFMOKT"
      }
    },
    {
      "cell_type": "code",
      "source": [
        "df[\"position\"].value_counts()"
      ],
      "metadata": {
        "colab": {
          "base_uri": "https://localhost:8080/"
        },
        "id": "D2DTIZL0a1Z6",
        "outputId": "76a205f0-fe71-4960-f456-943e52ffeaf3"
      },
      "execution_count": null,
      "outputs": [
        {
          "output_type": "execute_result",
          "data": {
            "text/plain": [
              "CB               2296\n",
              "GK               1884\n",
              "ST               1757\n",
              "CDM|CM           1546\n",
              "LB                695\n",
              "                 ... \n",
              "LB|RW               1\n",
              "LWB|CM|CAM|LW       1\n",
              "RB|RW|LW            1\n",
              "CB|CF               1\n",
              "CB|RM|LM            1\n",
              "Name: position, Length: 232, dtype: int64"
            ]
          },
          "metadata": {},
          "execution_count": 20
        }
      ]
    },
    {
      "cell_type": "markdown",
      "source": [
        "Pode-se obersevar que um jogador pode ter mais do que uma posição dentro do jogo e da sua função no time."
      ],
      "metadata": {
        "id": "t2u2SPKQbImF"
      }
    },
    {
      "cell_type": "code",
      "source": [
        "df.groupby('position').mean()"
      ],
      "metadata": {
        "id": "egtgLsa9MPWS",
        "outputId": "3b4c5df2-50fa-4a76-ed73-a09ac8988986",
        "colab": {
          "base_uri": "https://localhost:8080/",
          "height": 455
        }
      },
      "execution_count": null,
      "outputs": [
        {
          "output_type": "execute_result",
          "data": {
            "text/plain": [
              "                  player_id    overall        age      hits  potential\n",
              "position                                                              \n",
              "CAM           231387.455357  65.602679  24.575893  0.959821  71.758929\n",
              "CAM|CF        230731.895833  67.645833  24.979167  5.416667  73.604167\n",
              "CAM|CF|LW     218185.500000  69.700000  26.300000  9.700000  75.100000\n",
              "CAM|CF|RW     224962.833333  68.500000  24.500000  2.166667  76.166667\n",
              "CAM|LW        217544.500000  70.477273  26.045455  8.159091  74.772727\n",
              "...                     ...        ...        ...       ...        ...\n",
              "ST|RM|RW      220465.794872  68.230769  25.948718  2.897436  72.256410\n",
              "ST|RW         226349.421488  66.561983  24.966942  2.958678  72.520661\n",
              "ST|RWB|RM|RW  236393.666667  64.000000  28.000000  0.000000  66.333333\n",
              "ST|RWB|RW     198982.000000  59.000000  26.500000  0.500000  62.000000\n",
              "ST|RW|LW      227402.549020  67.813725  25.078431  5.774510  73.441176\n",
              "\n",
              "[232 rows x 5 columns]"
            ],
            "text/html": [
              "\n",
              "  <div id=\"df-37d2bb34-3fef-4110-8141-4fce2d1cdb0a\">\n",
              "    <div class=\"colab-df-container\">\n",
              "      <div>\n",
              "<style scoped>\n",
              "    .dataframe tbody tr th:only-of-type {\n",
              "        vertical-align: middle;\n",
              "    }\n",
              "\n",
              "    .dataframe tbody tr th {\n",
              "        vertical-align: top;\n",
              "    }\n",
              "\n",
              "    .dataframe thead th {\n",
              "        text-align: right;\n",
              "    }\n",
              "</style>\n",
              "<table border=\"1\" class=\"dataframe\">\n",
              "  <thead>\n",
              "    <tr style=\"text-align: right;\">\n",
              "      <th></th>\n",
              "      <th>player_id</th>\n",
              "      <th>overall</th>\n",
              "      <th>age</th>\n",
              "      <th>hits</th>\n",
              "      <th>potential</th>\n",
              "    </tr>\n",
              "    <tr>\n",
              "      <th>position</th>\n",
              "      <th></th>\n",
              "      <th></th>\n",
              "      <th></th>\n",
              "      <th></th>\n",
              "      <th></th>\n",
              "    </tr>\n",
              "  </thead>\n",
              "  <tbody>\n",
              "    <tr>\n",
              "      <th>CAM</th>\n",
              "      <td>231387.455357</td>\n",
              "      <td>65.602679</td>\n",
              "      <td>24.575893</td>\n",
              "      <td>0.959821</td>\n",
              "      <td>71.758929</td>\n",
              "    </tr>\n",
              "    <tr>\n",
              "      <th>CAM|CF</th>\n",
              "      <td>230731.895833</td>\n",
              "      <td>67.645833</td>\n",
              "      <td>24.979167</td>\n",
              "      <td>5.416667</td>\n",
              "      <td>73.604167</td>\n",
              "    </tr>\n",
              "    <tr>\n",
              "      <th>CAM|CF|LW</th>\n",
              "      <td>218185.500000</td>\n",
              "      <td>69.700000</td>\n",
              "      <td>26.300000</td>\n",
              "      <td>9.700000</td>\n",
              "      <td>75.100000</td>\n",
              "    </tr>\n",
              "    <tr>\n",
              "      <th>CAM|CF|RW</th>\n",
              "      <td>224962.833333</td>\n",
              "      <td>68.500000</td>\n",
              "      <td>24.500000</td>\n",
              "      <td>2.166667</td>\n",
              "      <td>76.166667</td>\n",
              "    </tr>\n",
              "    <tr>\n",
              "      <th>CAM|LW</th>\n",
              "      <td>217544.500000</td>\n",
              "      <td>70.477273</td>\n",
              "      <td>26.045455</td>\n",
              "      <td>8.159091</td>\n",
              "      <td>74.772727</td>\n",
              "    </tr>\n",
              "    <tr>\n",
              "      <th>...</th>\n",
              "      <td>...</td>\n",
              "      <td>...</td>\n",
              "      <td>...</td>\n",
              "      <td>...</td>\n",
              "      <td>...</td>\n",
              "    </tr>\n",
              "    <tr>\n",
              "      <th>ST|RM|RW</th>\n",
              "      <td>220465.794872</td>\n",
              "      <td>68.230769</td>\n",
              "      <td>25.948718</td>\n",
              "      <td>2.897436</td>\n",
              "      <td>72.256410</td>\n",
              "    </tr>\n",
              "    <tr>\n",
              "      <th>ST|RW</th>\n",
              "      <td>226349.421488</td>\n",
              "      <td>66.561983</td>\n",
              "      <td>24.966942</td>\n",
              "      <td>2.958678</td>\n",
              "      <td>72.520661</td>\n",
              "    </tr>\n",
              "    <tr>\n",
              "      <th>ST|RWB|RM|RW</th>\n",
              "      <td>236393.666667</td>\n",
              "      <td>64.000000</td>\n",
              "      <td>28.000000</td>\n",
              "      <td>0.000000</td>\n",
              "      <td>66.333333</td>\n",
              "    </tr>\n",
              "    <tr>\n",
              "      <th>ST|RWB|RW</th>\n",
              "      <td>198982.000000</td>\n",
              "      <td>59.000000</td>\n",
              "      <td>26.500000</td>\n",
              "      <td>0.500000</td>\n",
              "      <td>62.000000</td>\n",
              "    </tr>\n",
              "    <tr>\n",
              "      <th>ST|RW|LW</th>\n",
              "      <td>227402.549020</td>\n",
              "      <td>67.813725</td>\n",
              "      <td>25.078431</td>\n",
              "      <td>5.774510</td>\n",
              "      <td>73.441176</td>\n",
              "    </tr>\n",
              "  </tbody>\n",
              "</table>\n",
              "<p>232 rows × 5 columns</p>\n",
              "</div>\n",
              "      <button class=\"colab-df-convert\" onclick=\"convertToInteractive('df-37d2bb34-3fef-4110-8141-4fce2d1cdb0a')\"\n",
              "              title=\"Convert this dataframe to an interactive table.\"\n",
              "              style=\"display:none;\">\n",
              "        \n",
              "  <svg xmlns=\"http://www.w3.org/2000/svg\" height=\"24px\"viewBox=\"0 0 24 24\"\n",
              "       width=\"24px\">\n",
              "    <path d=\"M0 0h24v24H0V0z\" fill=\"none\"/>\n",
              "    <path d=\"M18.56 5.44l.94 2.06.94-2.06 2.06-.94-2.06-.94-.94-2.06-.94 2.06-2.06.94zm-11 1L8.5 8.5l.94-2.06 2.06-.94-2.06-.94L8.5 2.5l-.94 2.06-2.06.94zm10 10l.94 2.06.94-2.06 2.06-.94-2.06-.94-.94-2.06-.94 2.06-2.06.94z\"/><path d=\"M17.41 7.96l-1.37-1.37c-.4-.4-.92-.59-1.43-.59-.52 0-1.04.2-1.43.59L10.3 9.45l-7.72 7.72c-.78.78-.78 2.05 0 2.83L4 21.41c.39.39.9.59 1.41.59.51 0 1.02-.2 1.41-.59l7.78-7.78 2.81-2.81c.8-.78.8-2.07 0-2.86zM5.41 20L4 18.59l7.72-7.72 1.47 1.35L5.41 20z\"/>\n",
              "  </svg>\n",
              "      </button>\n",
              "      \n",
              "  <style>\n",
              "    .colab-df-container {\n",
              "      display:flex;\n",
              "      flex-wrap:wrap;\n",
              "      gap: 12px;\n",
              "    }\n",
              "\n",
              "    .colab-df-convert {\n",
              "      background-color: #E8F0FE;\n",
              "      border: none;\n",
              "      border-radius: 50%;\n",
              "      cursor: pointer;\n",
              "      display: none;\n",
              "      fill: #1967D2;\n",
              "      height: 32px;\n",
              "      padding: 0 0 0 0;\n",
              "      width: 32px;\n",
              "    }\n",
              "\n",
              "    .colab-df-convert:hover {\n",
              "      background-color: #E2EBFA;\n",
              "      box-shadow: 0px 1px 2px rgba(60, 64, 67, 0.3), 0px 1px 3px 1px rgba(60, 64, 67, 0.15);\n",
              "      fill: #174EA6;\n",
              "    }\n",
              "\n",
              "    [theme=dark] .colab-df-convert {\n",
              "      background-color: #3B4455;\n",
              "      fill: #D2E3FC;\n",
              "    }\n",
              "\n",
              "    [theme=dark] .colab-df-convert:hover {\n",
              "      background-color: #434B5C;\n",
              "      box-shadow: 0px 1px 3px 1px rgba(0, 0, 0, 0.15);\n",
              "      filter: drop-shadow(0px 1px 2px rgba(0, 0, 0, 0.3));\n",
              "      fill: #FFFFFF;\n",
              "    }\n",
              "  </style>\n",
              "\n",
              "      <script>\n",
              "        const buttonEl =\n",
              "          document.querySelector('#df-37d2bb34-3fef-4110-8141-4fce2d1cdb0a button.colab-df-convert');\n",
              "        buttonEl.style.display =\n",
              "          google.colab.kernel.accessAllowed ? 'block' : 'none';\n",
              "\n",
              "        async function convertToInteractive(key) {\n",
              "          const element = document.querySelector('#df-37d2bb34-3fef-4110-8141-4fce2d1cdb0a');\n",
              "          const dataTable =\n",
              "            await google.colab.kernel.invokeFunction('convertToInteractive',\n",
              "                                                     [key], {});\n",
              "          if (!dataTable) return;\n",
              "\n",
              "          const docLinkHtml = 'Like what you see? Visit the ' +\n",
              "            '<a target=\"_blank\" href=https://colab.research.google.com/notebooks/data_table.ipynb>data table notebook</a>'\n",
              "            + ' to learn more about interactive tables.';\n",
              "          element.innerHTML = '';\n",
              "          dataTable['output_type'] = 'display_data';\n",
              "          await google.colab.output.renderOutput(dataTable, element);\n",
              "          const docLink = document.createElement('div');\n",
              "          docLink.innerHTML = docLinkHtml;\n",
              "          element.appendChild(docLink);\n",
              "        }\n",
              "      </script>\n",
              "    </div>\n",
              "  </div>\n",
              "  "
            ]
          },
          "metadata": {},
          "execution_count": 5
        }
      ]
    },
    {
      "cell_type": "markdown",
      "source": [
        "A tabela resultante mostra a média de cada variável numérica para cada combinação de posições listadas na coluna \"position\". Por exemplo, para jogadores que têm a posição listada como \"CAM\", a média de overall é 65.6, a média de idade é 24.6, a média de hits é 0.96, e a média de potential é 71.76. As categorias de posição foram criadas com base nas informações da coluna \"position\", que contém várias posições separadas por \"|\". Cada combinação única de posições se tornou uma categoria separada."
      ],
      "metadata": {
        "id": "dKMzkTq0aFGm"
      }
    },
    {
      "cell_type": "code",
      "source": [
        "df.info()"
      ],
      "metadata": {
        "colab": {
          "base_uri": "https://localhost:8080/"
        },
        "id": "9qatpM3vpOMW",
        "outputId": "2cac3276-d967-4bb9-d52a-33a152e0137d"
      },
      "execution_count": null,
      "outputs": [
        {
          "output_type": "stream",
          "name": "stdout",
          "text": [
            "<class 'pandas.core.frame.DataFrame'>\n",
            "RangeIndex: 17981 entries, 0 to 17980\n",
            "Data columns (total 9 columns):\n",
            " #   Column       Non-Null Count  Dtype \n",
            "---  ------       --------------  ----- \n",
            " 0   player_id    17981 non-null  int64 \n",
            " 1   name         17981 non-null  object\n",
            " 2   nationality  17981 non-null  object\n",
            " 3   position     17981 non-null  object\n",
            " 4   overall      17981 non-null  int64 \n",
            " 5   age          17981 non-null  int64 \n",
            " 6   hits         17981 non-null  int64 \n",
            " 7   potential    17981 non-null  int64 \n",
            " 8   team         17981 non-null  object\n",
            "dtypes: int64(5), object(4)\n",
            "memory usage: 1.2+ MB\n"
          ]
        }
      ]
    },
    {
      "cell_type": "markdown",
      "source": [
        "Podemos observar que essa base nao possue nenhum valor nulo entre os dados;"
      ],
      "metadata": {
        "id": "6e4N0R12aKNa"
      }
    },
    {
      "cell_type": "code",
      "source": [
        "df.describe()"
      ],
      "metadata": {
        "colab": {
          "base_uri": "https://localhost:8080/",
          "height": 300
        },
        "id": "vTOAVreQsli3",
        "outputId": "8442f0b1-afb6-4726-b188-6753aba7b8fc"
      },
      "execution_count": null,
      "outputs": [
        {
          "output_type": "execute_result",
          "data": {
            "text/plain": [
              "           player_id       overall           age          hits     potential\n",
              "count   17981.000000  17981.000000  17981.000000  17981.000000  17981.000000\n",
              "mean   220912.660531     67.274345     26.311440      2.689450     71.738057\n",
              "std     27738.072671      5.924392      4.556077     10.846286      5.961968\n",
              "min        41.000000     56.000000     17.000000      0.000000     57.000000\n",
              "25%    204881.000000     63.000000     23.000000      0.000000     67.000000\n",
              "50%    226753.000000     67.000000     26.000000      0.000000     71.000000\n",
              "75%    241587.000000     71.000000     30.000000      2.000000     76.000000\n",
              "max    256469.000000     94.000000     43.000000    371.000000     95.000000"
            ],
            "text/html": [
              "\n",
              "  <div id=\"df-489ff4d3-75e5-466a-b5a0-7014d9b8f6a4\">\n",
              "    <div class=\"colab-df-container\">\n",
              "      <div>\n",
              "<style scoped>\n",
              "    .dataframe tbody tr th:only-of-type {\n",
              "        vertical-align: middle;\n",
              "    }\n",
              "\n",
              "    .dataframe tbody tr th {\n",
              "        vertical-align: top;\n",
              "    }\n",
              "\n",
              "    .dataframe thead th {\n",
              "        text-align: right;\n",
              "    }\n",
              "</style>\n",
              "<table border=\"1\" class=\"dataframe\">\n",
              "  <thead>\n",
              "    <tr style=\"text-align: right;\">\n",
              "      <th></th>\n",
              "      <th>player_id</th>\n",
              "      <th>overall</th>\n",
              "      <th>age</th>\n",
              "      <th>hits</th>\n",
              "      <th>potential</th>\n",
              "    </tr>\n",
              "  </thead>\n",
              "  <tbody>\n",
              "    <tr>\n",
              "      <th>count</th>\n",
              "      <td>17981.000000</td>\n",
              "      <td>17981.000000</td>\n",
              "      <td>17981.000000</td>\n",
              "      <td>17981.000000</td>\n",
              "      <td>17981.000000</td>\n",
              "    </tr>\n",
              "    <tr>\n",
              "      <th>mean</th>\n",
              "      <td>220912.660531</td>\n",
              "      <td>67.274345</td>\n",
              "      <td>26.311440</td>\n",
              "      <td>2.689450</td>\n",
              "      <td>71.738057</td>\n",
              "    </tr>\n",
              "    <tr>\n",
              "      <th>std</th>\n",
              "      <td>27738.072671</td>\n",
              "      <td>5.924392</td>\n",
              "      <td>4.556077</td>\n",
              "      <td>10.846286</td>\n",
              "      <td>5.961968</td>\n",
              "    </tr>\n",
              "    <tr>\n",
              "      <th>min</th>\n",
              "      <td>41.000000</td>\n",
              "      <td>56.000000</td>\n",
              "      <td>17.000000</td>\n",
              "      <td>0.000000</td>\n",
              "      <td>57.000000</td>\n",
              "    </tr>\n",
              "    <tr>\n",
              "      <th>25%</th>\n",
              "      <td>204881.000000</td>\n",
              "      <td>63.000000</td>\n",
              "      <td>23.000000</td>\n",
              "      <td>0.000000</td>\n",
              "      <td>67.000000</td>\n",
              "    </tr>\n",
              "    <tr>\n",
              "      <th>50%</th>\n",
              "      <td>226753.000000</td>\n",
              "      <td>67.000000</td>\n",
              "      <td>26.000000</td>\n",
              "      <td>0.000000</td>\n",
              "      <td>71.000000</td>\n",
              "    </tr>\n",
              "    <tr>\n",
              "      <th>75%</th>\n",
              "      <td>241587.000000</td>\n",
              "      <td>71.000000</td>\n",
              "      <td>30.000000</td>\n",
              "      <td>2.000000</td>\n",
              "      <td>76.000000</td>\n",
              "    </tr>\n",
              "    <tr>\n",
              "      <th>max</th>\n",
              "      <td>256469.000000</td>\n",
              "      <td>94.000000</td>\n",
              "      <td>43.000000</td>\n",
              "      <td>371.000000</td>\n",
              "      <td>95.000000</td>\n",
              "    </tr>\n",
              "  </tbody>\n",
              "</table>\n",
              "</div>\n",
              "      <button class=\"colab-df-convert\" onclick=\"convertToInteractive('df-489ff4d3-75e5-466a-b5a0-7014d9b8f6a4')\"\n",
              "              title=\"Convert this dataframe to an interactive table.\"\n",
              "              style=\"display:none;\">\n",
              "        \n",
              "  <svg xmlns=\"http://www.w3.org/2000/svg\" height=\"24px\"viewBox=\"0 0 24 24\"\n",
              "       width=\"24px\">\n",
              "    <path d=\"M0 0h24v24H0V0z\" fill=\"none\"/>\n",
              "    <path d=\"M18.56 5.44l.94 2.06.94-2.06 2.06-.94-2.06-.94-.94-2.06-.94 2.06-2.06.94zm-11 1L8.5 8.5l.94-2.06 2.06-.94-2.06-.94L8.5 2.5l-.94 2.06-2.06.94zm10 10l.94 2.06.94-2.06 2.06-.94-2.06-.94-.94-2.06-.94 2.06-2.06.94z\"/><path d=\"M17.41 7.96l-1.37-1.37c-.4-.4-.92-.59-1.43-.59-.52 0-1.04.2-1.43.59L10.3 9.45l-7.72 7.72c-.78.78-.78 2.05 0 2.83L4 21.41c.39.39.9.59 1.41.59.51 0 1.02-.2 1.41-.59l7.78-7.78 2.81-2.81c.8-.78.8-2.07 0-2.86zM5.41 20L4 18.59l7.72-7.72 1.47 1.35L5.41 20z\"/>\n",
              "  </svg>\n",
              "      </button>\n",
              "      \n",
              "  <style>\n",
              "    .colab-df-container {\n",
              "      display:flex;\n",
              "      flex-wrap:wrap;\n",
              "      gap: 12px;\n",
              "    }\n",
              "\n",
              "    .colab-df-convert {\n",
              "      background-color: #E8F0FE;\n",
              "      border: none;\n",
              "      border-radius: 50%;\n",
              "      cursor: pointer;\n",
              "      display: none;\n",
              "      fill: #1967D2;\n",
              "      height: 32px;\n",
              "      padding: 0 0 0 0;\n",
              "      width: 32px;\n",
              "    }\n",
              "\n",
              "    .colab-df-convert:hover {\n",
              "      background-color: #E2EBFA;\n",
              "      box-shadow: 0px 1px 2px rgba(60, 64, 67, 0.3), 0px 1px 3px 1px rgba(60, 64, 67, 0.15);\n",
              "      fill: #174EA6;\n",
              "    }\n",
              "\n",
              "    [theme=dark] .colab-df-convert {\n",
              "      background-color: #3B4455;\n",
              "      fill: #D2E3FC;\n",
              "    }\n",
              "\n",
              "    [theme=dark] .colab-df-convert:hover {\n",
              "      background-color: #434B5C;\n",
              "      box-shadow: 0px 1px 3px 1px rgba(0, 0, 0, 0.15);\n",
              "      filter: drop-shadow(0px 1px 2px rgba(0, 0, 0, 0.3));\n",
              "      fill: #FFFFFF;\n",
              "    }\n",
              "  </style>\n",
              "\n",
              "      <script>\n",
              "        const buttonEl =\n",
              "          document.querySelector('#df-489ff4d3-75e5-466a-b5a0-7014d9b8f6a4 button.colab-df-convert');\n",
              "        buttonEl.style.display =\n",
              "          google.colab.kernel.accessAllowed ? 'block' : 'none';\n",
              "\n",
              "        async function convertToInteractive(key) {\n",
              "          const element = document.querySelector('#df-489ff4d3-75e5-466a-b5a0-7014d9b8f6a4');\n",
              "          const dataTable =\n",
              "            await google.colab.kernel.invokeFunction('convertToInteractive',\n",
              "                                                     [key], {});\n",
              "          if (!dataTable) return;\n",
              "\n",
              "          const docLinkHtml = 'Like what you see? Visit the ' +\n",
              "            '<a target=\"_blank\" href=https://colab.research.google.com/notebooks/data_table.ipynb>data table notebook</a>'\n",
              "            + ' to learn more about interactive tables.';\n",
              "          element.innerHTML = '';\n",
              "          dataTable['output_type'] = 'display_data';\n",
              "          await google.colab.output.renderOutput(dataTable, element);\n",
              "          const docLink = document.createElement('div');\n",
              "          docLink.innerHTML = docLinkHtml;\n",
              "          element.appendChild(docLink);\n",
              "        }\n",
              "      </script>\n",
              "    </div>\n",
              "  </div>\n",
              "  "
            ]
          },
          "metadata": {},
          "execution_count": 8
        }
      ]
    },
    {
      "cell_type": "code",
      "source": [
        "df.hist(bins=50, figsize=(20,15))\n",
        "plt.show()"
      ],
      "metadata": {
        "colab": {
          "base_uri": "https://localhost:8080/",
          "height": 879
        },
        "id": "Lht28t32uo9E",
        "outputId": "8493e7d4-1da3-402f-cdd4-b150b5ef7580"
      },
      "execution_count": null,
      "outputs": [
        {
          "output_type": "display_data",
          "data": {
            "text/plain": [
              "<Figure size 1440x1080 with 6 Axes>"
            ],
            "image/png": "[encoded data removed]"
          },
          "metadata": {
            "needs_background": "light"
          }
        }
      ]
    },
    {
      "cell_type": "markdown",
      "source": [
        "Pode mos observar que a maioria dos jogadores tem o overall entre 65 a 70, a maioria dos jogadores estao entre 23 a 25 anos, poucos jogadores tem a taxa de acerto alta e que a maioria dos jogadores estao com potencial entre 65 a 75."
      ],
      "metadata": {
        "id": "SPYtE_wSZGxf"
      }
    },
    {
      "cell_type": "markdown",
      "source": [
        "## **Usando o CrossValidation no modelo**"
      ],
      "metadata": {
        "id": "VWLAiBXTYwYm"
      }
    },
    {
      "cell_type": "code",
      "source": [
        "from sklearn.model_selection import KFold\n",
        "from sklearn.linear_model import LinearRegression\n",
        "\n",
        "# Selecionar os recursos de entrada (X) e a variável alvo (y)\n",
        "X = df[['age', 'hits', 'potential']]\n",
        "y = df['overall']\n",
        "\n",
        "# Definir o número de folds para a validação cruzada k-fold\n",
        "n_folds = 5\n",
        "\n",
        "# Inicializar o objeto de validação cruzada k-fold\n",
        "kf = KFold(n_splits=n_folds, shuffle=True, random_state=42)\n",
        "\n",
        "# Inicializar o modelo de regressão linear\n",
        "model = LinearRegression()\n",
        "\n",
        "# Realizar a validação cruzada k-fold\n",
        "for fold, (train_idx, val_idx) in enumerate(kf.split(X, y)):\n",
        "    print(f'Fold {fold+1}:')\n",
        "    X_train, y_train = X.iloc[train_idx], y.iloc[train_idx]\n",
        "    X_val, y_val = X.iloc[val_idx], y.iloc[val_idx]\n",
        "    model.fit(X_train, y_train)\n",
        "    score = model.score(X_val, y_val)\n",
        "    print(f'R2 score: {score:.2f}')\n"
      ],
      "metadata": {
        "id": "mvCjX-OEPoXO",
        "outputId": "8dc85903-ee99-48dd-f9fe-511fca7efe2b",
        "colab": {
          "base_uri": "https://localhost:8080/"
        }
      },
      "execution_count": null,
      "outputs": [
        {
          "output_type": "stream",
          "name": "stdout",
          "text": [
            "Fold 1:\n",
            "R2 score: 0.81\n",
            "Fold 2:\n",
            "R2 score: 0.81\n",
            "Fold 3:\n",
            "R2 score: 0.80\n",
            "Fold 4:\n",
            "R2 score: 0.80\n",
            "Fold 5:\n",
            "R2 score: 0.81\n"
          ]
        }
      ]
    },
    {
      "cell_type": "markdown",
      "source": [
        "Os resultados mostram o desempenho do modelo em cada uma das cinco dobras (folds) do conjunto de dados durante a validação cruzada. A medida de desempenho usada foi o R2 score, que é uma medida de quão bem o modelo se ajusta aos dados.\n",
        "\n",
        "Os valores de R2 score variam de 0 a 1, onde 0 indica que o modelo não explica nada da variância dos dados, e 1 indica que o modelo explica toda a variância dos dados. Nesse caso, os resultados indicam que o modelo tem um bom desempenho, com valores de R2 score variando entre 0.80 e 0.81 em todas as dobras."
      ],
      "metadata": {
        "id": "rLdki7EOYtPN"
      }
    },
    {
      "cell_type": "markdown",
      "source": [
        "## **Usando o GridSearch no modelo**"
      ],
      "metadata": {
        "id": "H2qbA4TSY6Qt"
      }
    },
    {
      "cell_type": "code",
      "source": [
        "from sklearn.pipeline import make_pipeline\n",
        "from sklearn.preprocessing import StandardScaler\n",
        "from sklearn.linear_model import LinearRegression\n",
        "from sklearn.model_selection import GridSearchCV\n",
        "\n",
        "# Define the pipeline with StandardScaler() and LinearRegression()\n",
        "model = make_pipeline(StandardScaler(with_mean=False), LinearRegression())\n",
        "\n",
        "# Define the hyperparameters to be tested\n",
        "param_grid = {'linearregression__fit_intercept': [True, False]}\n",
        "\n",
        "# Create a GridSearch object with the model and the hyperparameters\n",
        "grid_search = GridSearchCV(estimator=model, param_grid=param_grid, cv=5)\n",
        "\n",
        "# Train the model with GridSearch\n",
        "grid_search.fit(X, y)\n",
        "\n",
        "# Get the best set of hyperparameters and the best score\n",
        "print(grid_search.best_params_)\n",
        "print(grid_search.best_score_)\n"
      ],
      "metadata": {
        "colab": {
          "base_uri": "https://localhost:8080/"
        },
        "id": "M8OpWgKbV2wr",
        "outputId": "03fd7c59-10eb-4f95-cdde-9bfb085dda92"
      },
      "execution_count": null,
      "outputs": [
        {
          "output_type": "stream",
          "name": "stdout",
          "text": [
            "{'linearregression__fit_intercept': False}\n",
            "-3.8506772143326997\n"
          ]
        }
      ]
    },
    {
      "cell_type": "markdown",
      "source": [
        "Esse resultado indica que, dentre os hiperparâmetros testados, o melhor conjunto de hiperparâmetros para o modelo de regressão linear é aquele em que o hiperparâmetro fit_intercept é definido como False. Além disso, o valor -3.8506772143326997 representa o melhor score obtido pelo modelo com esse conjunto de hiperparâmetros, durante a busca do GridSearch. Esses resultados indicam que, de acordo com a métrica usada (provavelmente R², já que o modelo é de regressão linear), o modelo obteve um desempenho melhor quando o hiperparâmetro fit_intercept foi definido como False."
      ],
      "metadata": {
        "id": "4nD47suQYeFe"
      }
    }
  ]
}